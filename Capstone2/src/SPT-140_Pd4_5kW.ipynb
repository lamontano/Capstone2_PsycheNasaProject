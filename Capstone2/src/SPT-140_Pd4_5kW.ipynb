{
 "cells": [
  {
   "cell_type": "code",
   "execution_count": 12,
   "metadata": {},
   "outputs": [],
   "source": [
    "import numpy as np\n",
    "import matplotlib.pyplot as plt  # To visualize\n",
    "import pandas as pd  # To read data\n",
    "from sklearn.model_selection import train_test_split\n",
    "from sklearn.linear_model import LinearRegression\n",
    "from sklearn.preprocessing import StandardScaler\n",
    "from sklearn.metrics import mean_squared_error\n",
    "from sklearn.model_selection import KFold\n",
    "from sklearn.model_selection import cross_val_score, cross_val_predict\n",
    "from sklearn import metrics"
   ]
  },
  {
   "cell_type": "code",
   "execution_count": 17,
   "metadata": {},
   "outputs": [
    {
     "name": "stdout",
     "output_type": "stream",
     "text": [
      "<bound method NDFrame.head of      Thrust    Pressure\n",
      "0  0.000003  278.530392\n",
      "1  0.000003  279.278918\n",
      "2  0.000004  282.067104\n",
      "3  0.000004  282.814596\n",
      "4  0.000005  283.833736\n",
      "5  0.000007  287.639913\n",
      "6  0.000010  290.627468\n",
      "7  0.000016  295.175162\n",
      "8  0.000024  297.270553\n",
      "9  0.000034  298.817936>\n"
     ]
    }
   ],
   "source": [
    "data = pd.read_csv('/home/lamontano/Desktop/Capstone2/STP140_4_5kW.csv')  # load data set\n",
    "X = data.iloc[:, 1:5].values\n",
    "Y = data.iloc[:,1:5].values\n",
    "print(data.head)"
   ]
  },
  {
   "cell_type": "code",
   "execution_count": 18,
   "metadata": {},
   "outputs": [
    {
     "name": "stdout",
     "output_type": "stream",
     "text": [
      "(8, 1) (8, 1)\n",
      "(2, 1) (2, 1)\n"
     ]
    }
   ],
   "source": [
    "X_train, X_test, Y_train, Y_test= train_test_split(X, Y,  test_size = 0.2)\n",
    "print(X_train.shape, Y_train.shape)\n",
    "print(X_test.shape, Y_test.shape)"
   ]
  },
  {
   "cell_type": "code",
   "execution_count": 19,
   "metadata": {},
   "outputs": [],
   "source": [
    "sc = StandardScaler()\n",
    "X_train = sc.fit_transform(X_train)\n",
    "X_test = sc.fit_transform(X_test)\n",
    "\n",
    "LR = LinearRegression()\n",
    "model = LR.fit(X_train, Y_train)\n",
    "y_predictions = LR.predict(X_test)"
   ]
  },
  {
   "cell_type": "code",
   "execution_count": 20,
   "metadata": {},
   "outputs": [
    {
     "name": "stdout",
     "output_type": "stream",
     "text": [
      "0.8990411038623023\n"
     ]
    }
   ],
   "source": [
    "print(model.score(X_test,Y_test))"
   ]
  },
  {
   "cell_type": "code",
   "execution_count": 21,
   "metadata": {},
   "outputs": [
    {
     "data": {
      "image/png": "[encoded data removed]",
      "text/plain": [
       "<Figure size 432x288 with 1 Axes>"
      ]
     },
     "metadata": {},
     "output_type": "display_data"
    }
   ],
   "source": [
    "# Plot Linear Regression\n",
    "plt.scatter(X_test, Y_test,  color='black')\n",
    "plt.plot(X_test, y_predictions, color='green')\n",
    "\n",
    "plt.xticks(())\n",
    "plt.yticks(())\n",
    "plt.xlabel('True Values')\n",
    "plt.ylabel('Predictions')\n",
    "\n",
    "plt.show()"
   ]
  },
  {
   "cell_type": "code",
   "execution_count": 22,
   "metadata": {},
   "outputs": [
    {
     "name": "stdout",
     "output_type": "stream",
     "text": [
      "KFold(n_splits=2, random_state=None, shuffle=False)\n",
      "Cross-validated scores:  [1. 1.]\n"
     ]
    }
   ],
   "source": [
    "kf = KFold(n_splits = 2)\n",
    "kf.get_n_splits(X)\n",
    "print(kf)\n",
    "\n",
    "KFold(n_splits = 2, random_state = None, shuffle = True)\n",
    "\n",
    "for train_index, test_index in kf.split(X):\n",
    "    #print(\"Train: \", train_index, \"Test: \", test_index)\n",
    "    X_train, X_test = X[train_index], X[test_index]\n",
    "    Y_train, Y_test = Y[train_index], Y[test_index]\n",
    "    \n",
    "score = cross_val_score(LinearRegression(), X_test, Y_test, cv = 2)\n",
    "\n",
    "print('Cross-validated scores: ', score)"
   ]
  },
  {
   "cell_type": "code",
   "execution_count": 23,
   "metadata": {},
   "outputs": [
    {
     "data": {
      "image/png": "[encoded data removed]",
      "text/plain": [
       "<Figure size 432x288 with 1 Axes>"
      ]
     },
     "metadata": {},
     "output_type": "display_data"
    }
   ],
   "source": [
    "#Make cross validation predictions \n",
    "predictions = cross_val_predict(LinearRegression(),X, Y, cv = 2)\n",
    "plt.scatter(X, Y,  color='green')\n",
    "plt.scatter(Y,predictions, color = 'blue' )\n",
    "plt.xticks(())\n",
    "plt.yticks(())\n",
    "plt.xlabel('True Values')\n",
    "plt.ylabel('Predictions')\n",
    "plt.show()"
   ]
  },
  {
   "cell_type": "code",
   "execution_count": 27,
   "metadata": {},
   "outputs": [
    {
     "name": "stdout",
     "output_type": "stream",
     "text": [
      "Cross-Predicted Accuracy:  1.0\n"
     ]
    }
   ],
   "source": [
    "accuracy = metrics.r2_score(Y, predictions)\n",
    "print('Cross-Predicted Accuracy: ', accuracy)"
   ]
  },
  {
   "cell_type": "code",
   "execution_count": null,
   "metadata": {},
   "outputs": [],
   "source": []
  }
 ],
 "metadata": {
  "kernelspec": {
   "display_name": "Python 3",
   "language": "python",
   "name": "python3"
  },
  "language_info": {
   "codemirror_mode": {
    "name": "ipython",
    "version": 3
   },
   "file_extension": ".py",
   "mimetype": "text/x-python",
   "name": "python",
   "nbconvert_exporter": "python",
   "pygments_lexer": "ipython3",
   "version": "3.5.2"
  }
 },
 "nbformat": 4,
 "nbformat_minor": 2
}
