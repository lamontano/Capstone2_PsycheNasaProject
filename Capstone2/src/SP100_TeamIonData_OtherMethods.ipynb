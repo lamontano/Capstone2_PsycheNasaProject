{
 "cells": [
  {
   "cell_type": "code",
   "execution_count": 62,
   "metadata": {},
   "outputs": [
    {
     "name": "stdout",
     "output_type": "stream",
     "text": [
      "[[3.01e+00 9.03e+02 3.45e+00 2.60e-01 3.71e+00 7.10e-02 4.43e+01 1.22e+03\n",
      "  2.93e-01 1.40e-03]\n",
      " [3.25e+00 9.75e+02 3.87e+00 2.60e-01 4.13e+00 6.40e-02 5.88e+01 1.45e+03\n",
      "  4.30e-01 1.50e-03]\n",
      " [3.51e+00 1.05e+03 4.17e+00 2.60e-01 4.43e+00 6.00e-02 6.41e+01 1.48e+03\n",
      "  4.41e-01 1.50e-03]\n",
      " [3.75e+00 1.12e+03 4.42e+00 2.60e-01 4.68e+00 5.70e-02 6.86e+01 1.49e+03\n",
      "  4.48e-01 1.60e-03]\n",
      " [3.97e+00 1.19e+03 4.66e+00 2.70e-01 4.93e+00 5.50e-02 7.28e+01 1.51e+03\n",
      "  4.53e-01 1.60e-03]\n",
      " [4.25e+00 1.27e+03 4.93e+00 2.60e-01 5.19e+00 5.00e-02 7.82e+01 1.54e+03\n",
      "  4.64e-01 1.70e-03]\n",
      " [4.50e+00 1.35e+03 5.18e+00 2.60e-01 5.44e+00 4.70e-02 8.27e+01 1.55e+03\n",
      "  4.67e-01 1.80e-03]\n",
      " [4.75e+00 1.42e+03 5.42e+00 2.60e-01 5.68e+00 4.70e-02 8.66e+01 1.55e+03\n",
      "  4.64e-01 1.80e-03]\n",
      " [4.98e+00 1.49e+03 5.64e+00 2.60e-01 5.91e+00 4.50e-02 9.17e+01 1.58e+03\n",
      "  4.78e-01 1.90e-03]\n",
      " [4.27e+00 1.28e+03 4.96e+00 2.60e-01 5.22e+00 5.10e-02 7.78e+01 1.52e+03\n",
      "  4.52e-01 1.70e-03]\n",
      " [3.01e+00 9.04e+02 3.55e+00 5.00e-01 4.05e+00 1.20e-01 5.45e+01 1.37e+03\n",
      "  4.05e-01 1.40e-03]\n",
      " [3.24e+00 9.73e+02 3.80e+00 5.00e-01 4.30e+00 1.20e-01 5.96e+01 1.41e+03\n",
      "  4.25e-01 1.40e-03]\n",
      " [3.49e+00 1.05e+03 4.08e+00 5.00e-01 4.59e+00 1.10e-01 6.51e+01 1.45e+03\n",
      "  4.41e-01 1.50e-03]\n",
      " [3.75e+00 1.13e+03 4.37e+00 5.00e-01 4.86e+00 1.00e-01 7.06e+01 1.48e+03\n",
      "  4.55e-01 1.50e-03]\n",
      " [4.08e+00 1.22e+03 4.70e+00 5.00e-01 5.20e+00 9.70e-02 7.74e+01 1.52e+03\n",
      "  4.70e-01 1.60e-03]\n",
      " [4.50e+00 1.35e+03 5.12e+00 5.00e-01 5.62e+00 8.90e-02 8.57e+01 1.55e+03\n",
      "  4.84e-01 1.70e-03]\n",
      " [5.00e+00 1.50e+03 5.62e+00 5.00e-01 6.12e+00 8.10e-02 9.54e+01 1.59e+03\n",
      "  4.96e-01 1.80e-03]\n",
      " [4.08e+00 1.22e+03 4.70e+00 5.00e-01 5.20e+00 9.70e-02 7.68e+01 1.51e+03\n",
      "  4.64e-01 1.60e-03]\n",
      " [3.00e+00 9.01e+02 3.35e+00 1.00e+00 4.38e+00 2.40e-01 5.25e+01 1.22e+03\n",
      "  3.49e-01 1.50e-03]\n",
      " [3.26e+00 9.79e+02 3.67e+00 1.00e+00 4.70e+00 2.20e-01 6.06e+01 1.31e+03\n",
      "  3.99e-01 1.60e-03]\n",
      " [3.48e+00 1.05e+03 3.91e+00 1.00e+00 4.94e+00 2.10e-01 6.44e+01 1.33e+03\n",
      "  4.01e-01 1.70e-03]\n",
      " [3.77e+00 1.13e+03 4.16e+00 1.00e+00 5.19e+00 2.00e-01 6.49e+01 1.27e+03\n",
      "  3.58e-01 1.80e-03]\n",
      " [4.00e+00 1.20e+03 4.38e+00 1.00e+00 5.42e+00 1.90e-01 6.84e+01 1.29e+03\n",
      "  3.59e-01 1.90e-03]\n",
      " [4.24e+00 1.27e+03 4.64e+00 1.00e+00 5.68e+00 1.80e-01 7.37e+01 1.32e+03\n",
      "  3.75e-01 1.90e-03]\n",
      " [4.50e+00 1.35e+03 5.00e+00 1.00e+00 6.03e+00 1.70e-01 8.69e+01 1.47e+03\n",
      "  4.63e-01 1.80e-03]\n",
      " [4.75e+00 1.43e+03 5.23e+00 1.00e+00 6.27e+00 1.70e-01 9.20e+01 1.50e+03\n",
      "  4.74e-01 1.90e-03]\n",
      " [4.98e+00 1.49e+03 5.45e+00 1.00e+00 6.48e+00 1.60e-01 9.65e+01 1.52e+03\n",
      "  4.81e-01 2.00e-03]\n",
      " [3.72e+00 1.12e+03 4.17e+00 1.00e+00 5.20e+00 2.00e-01 6.91e+01 1.35e+03\n",
      "  4.11e-01 1.70e-03]\n",
      " [5.02e+00 1.26e+03 5.55e+00 2.60e-01 5.82e+00 4.50e-02 7.60e+01 1.33e+03\n",
      "  3.96e-01 2.10e-03]\n",
      " [4.74e+00 1.19e+03 5.30e+00 2.60e-01 5.57e+00 4.70e-02 7.28e+01 1.33e+03\n",
      "  4.02e-01 2.00e-03]\n",
      " [4.51e+00 1.13e+03 5.10e+00 2.60e-01 5.37e+00 4.90e-02 7.00e+01 1.33e+03\n",
      "  4.05e-01 1.90e-03]\n",
      " [4.32e+00 1.08e+03 4.94e+00 2.60e-01 5.21e+00 5.10e-02 6.81e+01 1.33e+03\n",
      "  4.13e-01 1.80e-03]\n",
      " [4.00e+00 1.00e+03 4.64e+00 2.60e-01 4.91e+00 5.40e-02 6.40e+01 1.33e+03\n",
      "  4.17e-01 1.80e-03]\n",
      " [3.75e+00 9.37e+02 4.41e+00 2.60e-01 4.67e+00 5.70e-02 6.11e+01 1.33e+03\n",
      "  4.26e-01 1.70e-03]\n",
      " [3.50e+00 6.74e+02 4.17e+00 2.60e-01 4.43e+00 6.00e-02 5.74e+01 1.32e+03\n",
      "  4.25e-01 1.60e-03]\n",
      " [3.25e+00 8.12e+02 3.89e+00 2.60e-01 4.16e+00 6.40e-02 5.24e+01 1.29e+03\n",
      "  4.06e-01 1.50e-03]\n",
      " [2.98e+00 7.44e+02 3.61e+00 2.60e-01 3.87e+00 6.80e-02 4.75e+01 1.25e+03\n",
      "  3.92e-01 1.50e-03]\n",
      " [4.31e+00 1.08e+03 4.93e+00 2.60e-01 5.20e+00 5.10e-02 6.74e+01 1.32e+03\n",
      "  4.06e-01 1.90e-03]\n",
      " [4.95e+00 1.24e+03 5.53e+00 5.00e-01 6.03e+00 8.30e-02 8.37e+01 1.41e+03\n",
      "  4.68e-01 2.00e-03]\n",
      " [4.75e+00 1.19e+03 5.35e+00 5.00e-01 5.86e+00 8.60e-02 8.02e+01 1.40e+03\n",
      "  4.62e-01 1.90e-03]\n",
      " [4.49e+00 1.12e+03 5.12e+00 5.00e-01 5.62e+00 8.90e-02 7.62e+01 1.38e+03\n",
      "  4.60e-01 1.90e-03]\n",
      " [4.24e+00 1.06e+03 4.87e+00 5.00e-01 5.37e+00 9.40e-02 7.22e+01 1.37e+03\n",
      "  4.57e-01 1.80e-03]\n",
      " [4.07e+00 1.02e+03 4.71e+00 5.00e-01 5.20e+00 9.50e-02 6.87e+01 1.35e+03\n",
      "  4.46e-01 1.80e-03]\n",
      " [3.75e+00 9.38e+02 4.38e+00 5.00e-01 4.89e+00 1.00e-01 6.35e+01 1.33e+03\n",
      "  4.41e-01 1.70e-03]\n",
      " [3.50e+00 8.74e+02 4.12e+00 5.00e-01 4.63e+00 1.10e-01 5.91e+01 1.30e+03\n",
      "  4.31e-01 1.60e-03]\n",
      " [3.25e+00 8.12e+02 3.83e+00 5.00e-01 4.33e+00 1.10e-01 5.43e+01 1.28e+03\n",
      "  4.20e-01 1.50e-03]\n",
      " [3.01e+00 7.52e+02 3.58e+00 5.00e-01 4.07e+00 1.20e-01 5.00e+01 1.25e+03\n",
      "  4.08e-01 1.50e-03]\n",
      " [4.07e+00 1.02e+03 4.71e+00 5.00e-01 5.21e+00 1.00e-01 6.90e+01 1.35e+03\n",
      "  4.49e-01 1.80e-03]\n",
      " [4.99e+00 1.00e+03 5.51e+00 2.60e-01 5.78e+00 4.60e-02 6.25e+01 1.10e+03\n",
      "  3.37e-01 2.20e-03]\n",
      " [4.76e+00 9.55e+02 5.30e+00 2.60e-01 5.57e+00 4.70e-02 6.02e+01 1.10e+03\n",
      "  3.41e-01 2.20e-03]\n",
      " [4.50e+00 9.03e+02 5.05e+00 2.60e-01 5.31e+00 4.90e-02 5.84e+01 1.12e+03\n",
      "  3.55e-01 2.10e-03]\n",
      " [4.25e+00 8.53e+02 4.82e+00 2.60e-01 5.08e+00 5.10e-02 5.59e+01 1.12e+03\n",
      "  3.62e-01 1.90e-03]\n",
      " [4.01e+00 8.05e+02 4.59e+00 2.60e-01 4.86e+00 5.40e-02 5.31e+01 1.11e+03\n",
      "  3.60e-01 1.90e-03]\n",
      " [3.74e+00 7.51e+02 4.34e+00 2.60e-01 4.61e+00 5.70e-02 5.05e+01 1.12e+03\n",
      "  3.68e-01 1.80e-03]\n",
      " [3.48e+00 6.98e+02 4.11e+00 2.60e-01 4.37e+00 6.00e-02 4.71e+01 1.10e+03\n",
      "  3.64e-01 1.70e-03]\n",
      " [3.25e+00 6.52e+02 3.87e+00 2.60e-01 4.14e+00 6.40e-02 4.35e+01 1.07e+03\n",
      "  3.51e-01 1.60e-03]\n",
      " [2.98e+00 5.98e+02 3.61e+00 2.60e-01 3.87e+00 6.80e-02 4.00e+01 1.05e+03\n",
      "  3.45e-01 1.50e-03]\n",
      " [4.98e+00 9.98e+02 5.48e+00 5.00e-01 5.98e+00 8.30e-02 7.04e+01 1.20e+03\n",
      "  4.16e-01 2.10e-03]\n",
      " [4.73e+00 9.48e+02 5.25e+00 5.00e-01 5.74e+00 8.60e-02 6.73e+01 1.19e+03\n",
      "  4.15e-01 2.00e-03]\n",
      " [4.49e+00 9.00e+02 5.05e+00 5.00e-01 5.54e+00 8.90e-02 6.41e+01 1.18e+03\n",
      "  4.12e-01 2.00e-03]\n",
      " [4.24e+00 8.51e+02 4.81e+00 5.00e-01 5.31e+00 9.30e-02 6.07e+01 1.17e+03\n",
      "  4.08e-01 1.90e-03]\n",
      " [3.98e+00 7.98e+02 4.58e+00 5.00e-01 5.07e+00 9.80e-02 5.74e+01 1.15e+03\n",
      "  4.07e-01 1.80e-03]\n",
      " [3.75e+00 7.52e+02 4.36e+00 5.00e-01 4.85e+00 1.00e-01 5.42e+01 1.14e+03\n",
      "  4.03e-01 1.80e-03]\n",
      " [3.49e+00 7.00e+02 4.08e+00 5.00e-01 4.57e+00 1.10e-01 5.01e+01 1.12e+03\n",
      "  3.93e-01 1.70e-03]\n",
      " [3.25e+00 6.52e+02 3.83e+00 5.00e-01 4.33e+00 1.10e-01 4.65e+01 1.20e+03\n",
      "  3.84e-01 1.60e-03]\n",
      " [2.99e+00 5.99e+02 3.56e+00 5.00e-01 4.06e+00 1.20e-01 4.25e+01 1.07e+03\n",
      "  3.71e-01 1.50e-03]]\n",
      "[ 3 19 29 37 45 52 54 57 59 51 15 21 32 43 50 56 61 49 11 23 30 31 36 46\n",
      " 58 60 62 40 47 45 41 35 28 25 17 10  6 34 55 53 48 44 38 27 20 14  7 39\n",
      " 26 22 18 16 12  9  5  2  0 42 33 29 24 17 13  8  4  1]\n",
      "(66, 10) (66,)\n",
      "KFold(n_splits=3, random_state=None, shuffle=False)\n"
     ]
    }
   ],
   "source": [
    "import matplotlib.pyplot as plt\n",
    "import seaborn as sns\n",
    "import pandas as pd\n",
    "import numpy as np\n",
    "from sklearn.preprocessing import LabelEncoder\n",
    "\n",
    "#the location of the data file\n",
    "filepath = '/home/lamontano/Capstone2_PsycheNasaProject/Capstone2/Data/SPT100_TeamIonData.csv'\n",
    "#import the data\n",
    "data = pd.read_csv(filepath)\n",
    "#data.set_index('Voltage (V)', inplace=True) #Drop index column\n",
    "#data.drop(data.columns[len(data.columns)-1], axis=1, inplace=True)\n",
    "\n",
    "X = np.array(data.iloc[:, 1:11].values)\n",
    "print(X)\n",
    "#print(data.head)\n",
    "label_diagnosis = LabelEncoder()\n",
    "data['Thrust'] = label_diagnosis.fit_transform(data['Thrust'])\n",
    "#from sklearn.model_selection import train_test_split\n",
    "Y = np.array(data.Thrust)\n",
    "print(Y)\n",
    "\n",
    "print(X.shape, Y.shape)\n",
    "\n",
    "from sklearn.model_selection import KFold\n",
    "from sklearn.model_selection import cross_val_score, cross_val_predict\n",
    "from sklearn import metrics\n",
    "\n",
    "\n",
    "kf = KFold(n_splits = 3)\n",
    "kf.get_n_splits(X)\n",
    "print(kf)\n",
    "\n",
    "KFold(n_splits = 3, random_state = None, shuffle =True)\n",
    "\n",
    "\n",
    "for train_index, test_index in kf.split(X) :\n",
    "    #print(\"Train: \", train_index, \" Test: \", test_index)\n",
    "    X_train, X_test = X[train_index], X[test_index]\n",
    "    Y_train, Y_test = Y[train_index], Y[test_index]\n",
    "\n"
   ]
  },
  {
   "cell_type": "code",
   "execution_count": null,
   "metadata": {},
   "outputs": [],
   "source": [
    "\n"
   ]
  },
  {
   "cell_type": "code",
   "execution_count": 63,
   "metadata": {},
   "outputs": [
    {
     "name": "stdout",
     "output_type": "stream",
     "text": [
      "(44, 10) (22, 10)\n",
      "(44,) (22,)\n"
     ]
    }
   ],
   "source": [
    "print(X_train.shape, X_test.shape)\n",
    "print(Y_train.shape, Y_test.shape)"
   ]
  },
  {
   "cell_type": "code",
   "execution_count": 64,
   "metadata": {},
   "outputs": [
    {
     "name": "stdout",
     "output_type": "stream",
     "text": [
      "Cross-validated scores:  [0. 0. 0.]\n",
      "Naive Bayes score:  0.0\n"
     ]
    }
   ],
   "source": [
    "from sklearn.naive_bayes import GaussianNB\n",
    "\n",
    "kf1 = KFold(n_splits=3)\n",
    "score_NB = cross_val_score(GaussianNB(), X, Y, cv = kf1)\n",
    "\n",
    "print('Cross-validated scores: ', score_NB)\n",
    "\n",
    "\n",
    "#Naive Bayes \n",
    "\n",
    "\n",
    "BNB = GaussianNB()\n",
    "BNB = BNB.fit(X_train, Y_train)\n",
    "y_predict = BNB.predict(X_test)\n",
    "print(\"Naive Bayes score: \", BNB.score(X_test,Y_test))"
   ]
  },
  {
   "cell_type": "code",
   "execution_count": 65,
   "metadata": {},
   "outputs": [
    {
     "name": "stdout",
     "output_type": "stream",
     "text": [
      "Average of Cross-Validated scores in NB model:  0.0\n",
      "Cross-Predicted Accuracy:  0.0\n"
     ]
    }
   ],
   "source": [
    "print(\"Average of Cross-Validated scores in NB model: \", sum(score_NB)/ 3)\n",
    "\n",
    "\n",
    "#Make cross validation predictions \n",
    "predictions = cross_val_predict(GaussianNB(),X, Y, cv = kf1)\n",
    "#print(predictions)\n",
    "accuracy = metrics.accuracy_score(Y, predictions)\n",
    "print('Cross-Predicted Accuracy: ', accuracy)"
   ]
  },
  {
   "cell_type": "code",
   "execution_count": 66,
   "metadata": {},
   "outputs": [
    {
     "name": "stdout",
     "output_type": "stream",
     "text": [
      "Cross-validated scores:  [0. 0. 0.]\n",
      "Decision Tree score:  0.0\n"
     ]
    }
   ],
   "source": [
    "#Decision Trees\n",
    "from sklearn.tree import DecisionTreeClassifier\n",
    "\n",
    "score_DT = cross_val_score(DecisionTreeClassifier(), X, Y, cv = kf1)\n",
    "\n",
    "print('Cross-validated scores: ', score_DT)\n",
    "\n",
    "\n",
    "\n",
    "DTC = DecisionTreeClassifier(criterion = 'gini', max_features = 8, max_depth = 3)\n",
    "DTC = DTC.fit(X_train, Y_train)\n",
    "y_predict = DTC.predict(X_test)\n",
    "print(\"Decision Tree score: \", DTC.score(X_test,Y_test))"
   ]
  },
  {
   "cell_type": "code",
   "execution_count": 67,
   "metadata": {},
   "outputs": [
    {
     "name": "stdout",
     "output_type": "stream",
     "text": [
      "Average of Cross-Validated scores in DT model:  0.0\n",
      "Cross-Predicted Accuracy:  0.0\n"
     ]
    }
   ],
   "source": [
    "print(\"Average of Cross-Validated scores in DT model: \", sum(score_DT)/ 3)\n",
    "\n",
    "#Make cross validation predictions \n",
    "predictions = cross_val_predict(DecisionTreeClassifier(),X, Y, cv = kf1)\n",
    "#print(predictions)\n",
    "accuracy = metrics.accuracy_score(Y, predictions)\n",
    "print('Cross-Predicted Accuracy: ', accuracy)"
   ]
  },
  {
   "cell_type": "code",
   "execution_count": 68,
   "metadata": {},
   "outputs": [
    {
     "name": "stdout",
     "output_type": "stream",
     "text": [
      "Cross-validated scores:  [0. 0. 0.]\n",
      "KNN score:  0.0\n"
     ]
    }
   ],
   "source": [
    "#K Nearest neighbor\n",
    "from sklearn.neighbors import KNeighborsClassifier\n",
    "\n",
    "KNN = KNeighborsClassifier(n_neighbors = 2)\n",
    "\n",
    "score_KNN = cross_val_score(KNN, X, Y, cv = kf1)\n",
    "\n",
    "print('Cross-validated scores: ', score_KNN)\n",
    "\n",
    "KNN = KNN.fit(X_train, Y_train)\n",
    "y_predict = KNN.predict(X_test)\n",
    "print(\"KNN score: \", KNN.score(X_test, Y_test))"
   ]
  },
  {
   "cell_type": "code",
   "execution_count": 69,
   "metadata": {},
   "outputs": [
    {
     "name": "stdout",
     "output_type": "stream",
     "text": [
      "Average of Cross-Validated scores in KNN model:  0.0\n",
      "Cross-Predicted Accuracy:  0.0\n"
     ]
    }
   ],
   "source": [
    "print(\"Average of Cross-Validated scores in KNN model: \", sum(score_KNN)/ 3)\n",
    "\n",
    "#Make cross validation predictions \n",
    "predictions = cross_val_predict(KNN,X, Y, cv = kf1)\n",
    "#print(predictions)\n",
    "accuracy = metrics.accuracy_score(Y, predictions)\n",
    "print('Cross-Predicted Accuracy: ', accuracy)"
   ]
  },
  {
   "cell_type": "code",
   "execution_count": 70,
   "metadata": {},
   "outputs": [
    {
     "name": "stdout",
     "output_type": "stream",
     "text": [
      "Cross-validated scores:  [0. 0. 0.]\n",
      "Linear SVM score:  0.0\n"
     ]
    }
   ],
   "source": [
    "#Linear SVM\n",
    "\n",
    "from sklearn.svm import LinearSVC\n",
    "\n",
    "LinSVC = LinearSVC(penalty = 'l2', C = 2.0, max_iter = 1000000, dual = False)\n",
    "\n",
    "score_LinSVC = cross_val_score(LinSVC, X, Y, cv = kf1)\n",
    "print('Cross-validated scores: ', score_LinSVC)\n",
    "\n",
    "\n",
    "LinSVC = LinSVC.fit(X_train, Y_train)\n",
    "y_predict = LinSVC.predict(X_test)\n",
    "print(\"Linear SVM score: \", LinSVC.score(X_test, Y_test))\n"
   ]
  },
  {
   "cell_type": "code",
   "execution_count": 71,
   "metadata": {},
   "outputs": [
    {
     "name": "stdout",
     "output_type": "stream",
     "text": [
      "Average of Cross-Validated scores in Linear SVM model:  0.0\n",
      "Cross-Predicted Accuracy:  0.0\n"
     ]
    }
   ],
   "source": [
    "print(\"Average of Cross-Validated scores in Linear SVM model: \", sum(score_LinSVC)/ 3)\n",
    "\n",
    "#Make cross validation predictions \n",
    "predictions = cross_val_predict(LinSVC,X, Y, cv = kf1)\n",
    "#print(predictions)\n",
    "accuracy = metrics.accuracy_score(Y, predictions)\n",
    "print('Cross-Predicted Accuracy: ', accuracy)"
   ]
  },
  {
   "cell_type": "code",
   "execution_count": 72,
   "metadata": {},
   "outputs": [
    {
     "name": "stdout",
     "output_type": "stream",
     "text": [
      "Cross-validated scores:  [0. 0. 0.]\n",
      "RBF Kernel SVM score:  0.0\n"
     ]
    }
   ],
   "source": [
    "#SVM with RBF kernel\n",
    "\n",
    "from sklearn.svm import SVC\n",
    "\n",
    "rbfSVC = SVC(kernel = 'rbf', gamma = 0.001, C = 1.0)\n",
    "score_Kernel = cross_val_score(rbfSVC, X, Y, cv = kf1)\n",
    "print('Cross-validated scores: ', score_Kernel)\n",
    "\n",
    "rbfSVC = rbfSVC.fit(X_train, Y_train)\n",
    "y_predict = rbfSVC.predict(X_test)\n",
    "print(\"RBF Kernel SVM score: \", rbfSVC.score(X_test, Y_test))"
   ]
  },
  {
   "cell_type": "code",
   "execution_count": 73,
   "metadata": {},
   "outputs": [
    {
     "name": "stdout",
     "output_type": "stream",
     "text": [
      "Average of Cross-Validated scores in SVM with RBF Kernel model:  0.0\n",
      "Cross-Predicted Accuracy:  0.0\n"
     ]
    }
   ],
   "source": [
    "print(\"Average of Cross-Validated scores in SVM with RBF Kernel model: \", sum(score_Kernel)/ 5)\n",
    "\n",
    "\n",
    "#Make cross validation predictions \n",
    "predictions = cross_val_predict(rbfSVC,X, Y, cv = kf1)\n",
    "#print(predictions)\n",
    "accuracy = metrics.accuracy_score(Y, predictions)\n",
    "print('Cross-Predicted Accuracy: ', accuracy)"
   ]
  },
  {
   "cell_type": "code",
   "execution_count": 74,
   "metadata": {},
   "outputs": [
    {
     "name": "stdout",
     "output_type": "stream",
     "text": [
      "Cross-validated scores:  [0. 0. 0.]\n",
      "Logistic Regression score:  0.0\n"
     ]
    }
   ],
   "source": [
    "#Logistic Regression\n",
    "from sklearn.linear_model import LogisticRegression\n",
    "\n",
    "LR = LogisticRegression(penalty = 'l2', C = 0.1, solver = 'lbfgs', max_iter = 1000000)\n",
    "\n",
    "score = cross_val_score(LR, X, Y, cv = kf1)\n",
    "print('Cross-validated scores: ', score)\n",
    "\n",
    "LR = LR.fit(X_train, Y_train)\n",
    "y_predict = LR.predict(X_test)\n",
    "print(\"Logistic Regression score: \", LR.score(X_test, Y_test))"
   ]
  },
  {
   "cell_type": "code",
   "execution_count": 75,
   "metadata": {},
   "outputs": [
    {
     "name": "stdout",
     "output_type": "stream",
     "text": [
      "Average of Cross-Validated scores in Logistic Regression model:  0.0\n",
      "Cross-Predicted Accuracy:  0.0\n"
     ]
    }
   ],
   "source": [
    "print(\"Average of Cross-Validated scores in Logistic Regression model: \", sum(score)/ 3)\n",
    "#Make cross validation predictions \n",
    "predictions = cross_val_predict(LR,X, Y, cv = kf1)\n",
    "#print(predictions)\n",
    "accuracy = metrics.accuracy_score(Y, predictions)\n",
    "print('Cross-Predicted Accuracy: ', accuracy)"
   ]
  },
  {
   "cell_type": "code",
   "execution_count": null,
   "metadata": {},
   "outputs": [],
   "source": []
  }
 ],
 "metadata": {
  "kernelspec": {
   "display_name": "Python 3",
   "language": "python",
   "name": "python3"
  },
  "language_info": {
   "codemirror_mode": {
    "name": "ipython",
    "version": 3
   },
   "file_extension": ".py",
   "mimetype": "text/x-python",
   "name": "python",
   "nbconvert_exporter": "python",
   "pygments_lexer": "ipython3",
   "version": "3.5.2"
  }
 },
 "nbformat": 4,
 "nbformat_minor": 2
}
